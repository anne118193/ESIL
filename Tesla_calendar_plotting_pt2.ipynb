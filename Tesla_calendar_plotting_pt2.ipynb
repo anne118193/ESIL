{
 "cells": [
  {
   "cell_type": "code",
   "execution_count": 1,
   "id": "2d91641e",
   "metadata": {},
   "outputs": [],
   "source": [
    "import csv\n",
    "import pandas\n",
    "import datetime\n",
    "import time\n",
    "from datetime import datetime\n",
    "import pytz\n",
    "import dateutil.parser\n",
    "import matplotlib.pyplot as plt\n",
    "import numpy as np\n",
    "\n",
    "%matplotlib inline"
   ]
  },
  {
   "cell_type": "code",
   "execution_count": 2,
   "id": "c53952b3",
   "metadata": {},
   "outputs": [
    {
     "name": "stdout",
     "output_type": "stream",
     "text": [
      "4.1458\n"
     ]
    }
   ],
   "source": [
    "#load data\n",
    "with open('/home/asl006/ESIL/cellvoltages_2022-07-08-12-02-13_T1-12_100.csv', 'r') as file:\n",
    "    data = list(csv.reader(file))\n",
    "\n",
    "print(data[1][27]) #printing data to make sure I have the right stuff"
   ]
  },
  {
   "cell_type": "code",
   "execution_count": 3,
   "id": "05249a24",
   "metadata": {},
   "outputs": [
    {
     "ename": "ValueError",
     "evalue": "invalid literal for int() with base 10: '1 day, 0'",
     "output_type": "error",
     "traceback": [
      "\u001b[0;31m---------------------------------------------------------------------------\u001b[0m",
      "\u001b[0;31mValueError\u001b[0m                                Traceback (most recent call last)",
      "\u001b[0;32m/tmp/ipykernel_94/3682990027.py\u001b[0m in \u001b[0;36m<module>\u001b[0;34m\u001b[0m\n\u001b[1;32m     14\u001b[0m     \u001b[0mtimeDif\u001b[0m \u001b[0;34m=\u001b[0m \u001b[0mstr\u001b[0m\u001b[0;34m(\u001b[0m\u001b[0mtimeDif\u001b[0m\u001b[0;34m)\u001b[0m \u001b[0;31m#change data type to the correct type\u001b[0m\u001b[0;34m\u001b[0m\u001b[0;34m\u001b[0m\u001b[0m\n\u001b[1;32m     15\u001b[0m     \u001b[0mftr\u001b[0m \u001b[0;34m=\u001b[0m \u001b[0;34m[\u001b[0m\u001b[0;36m3600\u001b[0m\u001b[0;34m,\u001b[0m\u001b[0;36m60\u001b[0m\u001b[0;34m,\u001b[0m\u001b[0;36m1\u001b[0m\u001b[0;34m]\u001b[0m\u001b[0;34m\u001b[0m\u001b[0;34m\u001b[0m\u001b[0m\n\u001b[0;32m---> 16\u001b[0;31m     \u001b[0mtimeStep\u001b[0m\u001b[0;34m[\u001b[0m\u001b[0mi\u001b[0m\u001b[0;34m]\u001b[0m \u001b[0;34m=\u001b[0m \u001b[0msum\u001b[0m\u001b[0;34m(\u001b[0m\u001b[0;34m[\u001b[0m\u001b[0ma\u001b[0m\u001b[0;34m*\u001b[0m\u001b[0mb\u001b[0m \u001b[0;32mfor\u001b[0m \u001b[0ma\u001b[0m\u001b[0;34m,\u001b[0m\u001b[0mb\u001b[0m \u001b[0;32min\u001b[0m \u001b[0mzip\u001b[0m\u001b[0;34m(\u001b[0m\u001b[0mftr\u001b[0m\u001b[0;34m,\u001b[0m \u001b[0mmap\u001b[0m\u001b[0;34m(\u001b[0m\u001b[0mint\u001b[0m\u001b[0;34m,\u001b[0m \u001b[0mtimeDif\u001b[0m\u001b[0;34m.\u001b[0m\u001b[0msplit\u001b[0m\u001b[0;34m(\u001b[0m\u001b[0;34m':'\u001b[0m\u001b[0;34m)\u001b[0m\u001b[0;34m)\u001b[0m\u001b[0;34m)\u001b[0m\u001b[0;34m]\u001b[0m\u001b[0;34m)\u001b[0m \u001b[0;31m#convert to seconds\u001b[0m\u001b[0;34m\u001b[0m\u001b[0;34m\u001b[0m\u001b[0m\n\u001b[0m\u001b[1;32m     17\u001b[0m \u001b[0;34m\u001b[0m\u001b[0m\n",
      "\u001b[0;32m/tmp/ipykernel_94/3682990027.py\u001b[0m in \u001b[0;36m<listcomp>\u001b[0;34m(.0)\u001b[0m\n\u001b[1;32m     14\u001b[0m     \u001b[0mtimeDif\u001b[0m \u001b[0;34m=\u001b[0m \u001b[0mstr\u001b[0m\u001b[0;34m(\u001b[0m\u001b[0mtimeDif\u001b[0m\u001b[0;34m)\u001b[0m \u001b[0;31m#change data type to the correct type\u001b[0m\u001b[0;34m\u001b[0m\u001b[0;34m\u001b[0m\u001b[0m\n\u001b[1;32m     15\u001b[0m     \u001b[0mftr\u001b[0m \u001b[0;34m=\u001b[0m \u001b[0;34m[\u001b[0m\u001b[0;36m3600\u001b[0m\u001b[0;34m,\u001b[0m\u001b[0;36m60\u001b[0m\u001b[0;34m,\u001b[0m\u001b[0;36m1\u001b[0m\u001b[0;34m]\u001b[0m\u001b[0;34m\u001b[0m\u001b[0;34m\u001b[0m\u001b[0m\n\u001b[0;32m---> 16\u001b[0;31m     \u001b[0mtimeStep\u001b[0m\u001b[0;34m[\u001b[0m\u001b[0mi\u001b[0m\u001b[0;34m]\u001b[0m \u001b[0;34m=\u001b[0m \u001b[0msum\u001b[0m\u001b[0;34m(\u001b[0m\u001b[0;34m[\u001b[0m\u001b[0ma\u001b[0m\u001b[0;34m*\u001b[0m\u001b[0mb\u001b[0m \u001b[0;32mfor\u001b[0m \u001b[0ma\u001b[0m\u001b[0;34m,\u001b[0m\u001b[0mb\u001b[0m \u001b[0;32min\u001b[0m \u001b[0mzip\u001b[0m\u001b[0;34m(\u001b[0m\u001b[0mftr\u001b[0m\u001b[0;34m,\u001b[0m \u001b[0mmap\u001b[0m\u001b[0;34m(\u001b[0m\u001b[0mint\u001b[0m\u001b[0;34m,\u001b[0m \u001b[0mtimeDif\u001b[0m\u001b[0;34m.\u001b[0m\u001b[0msplit\u001b[0m\u001b[0;34m(\u001b[0m\u001b[0;34m':'\u001b[0m\u001b[0;34m)\u001b[0m\u001b[0;34m)\u001b[0m\u001b[0;34m)\u001b[0m\u001b[0;34m]\u001b[0m\u001b[0;34m)\u001b[0m \u001b[0;31m#convert to seconds\u001b[0m\u001b[0;34m\u001b[0m\u001b[0;34m\u001b[0m\u001b[0m\n\u001b[0m\u001b[1;32m     17\u001b[0m \u001b[0;34m\u001b[0m\u001b[0m\n",
      "\u001b[0;31mValueError\u001b[0m: invalid literal for int() with base 10: '1 day, 0'"
     ]
    }
   ],
   "source": [
    "#calculate time step\n",
    "timeStep = [] #create array for storing time elasped\n",
    "\n",
    "TZINFOS = { 'PDT': pytz.timezone('US/Pacific')} #get time zone\n",
    "\n",
    "rows = len(data) #get number of rows in csv data sheet\n",
    "timeStep = [0 for i in range(rows)] #initialize array for storing time elapsed\n",
    "t1 = dateutil.parser.parse(data[1][0], tzinfos= TZINFOS) #set this to be the intial time\n",
    "\n",
    "#fill in time array\n",
    "for i in range(1, rows):\n",
    "    t2 = dateutil.parser.parse(data[i][0], tzinfos= TZINFOS)\n",
    "    timeDif = t2-t1 #calculate time step / how many seconds has passed\n",
    "    timeDif = str(timeDif) #change data type to the correct type\n",
    "    ftr = [3600,60,1]\n",
    "    timeStep[i] = sum([a*b for a,b in zip(ftr, map(int, timeDif.split(':')))]) #convert to seconds\n",
    "\n"
   ]
  },
  {
   "cell_type": "code",
   "execution_count": null,
   "id": "194a2ede",
   "metadata": {},
   "outputs": [],
   "source": [
    "#get OCV from data\n",
    "\n",
    "#initialize array for storing OCV for each cell\n",
    "OCV1 = [0 for i in range(rows)]\n",
    "OCV2 = [0 for i in range(rows)]\n",
    "OCV3 = [0 for i in range(rows)]\n",
    "OCV4 = [0 for i in range(rows)]\n",
    "OCV5 = [0 for i in range(rows)]\n",
    "OCV6 = [0 for i in range(rows)]\n",
    "\n",
    "#fill arrays with proper data\n",
    "for i in range(1, rows):\n",
    "    OCV1[i] = data[i][27]\n",
    "    OCV2[i] = data[i][28]\n",
    "    OCV3[i] = data[i][29]\n",
    "    OCV4[i] = data[i][30]\n",
    "    OCV5[i] = data[i][31]\n",
    "    OCV6[i] = data[i][32]\n"
   ]
  },
  {
   "cell_type": "code",
   "execution_count": null,
   "id": "47f9971d",
   "metadata": {},
   "outputs": [],
   "source": [
    "#get voltage of each cell\n",
    "\n",
    "#initialize array for storing voltage of each cell\n",
    "volt1 = [0 for i in range(rows)]\n",
    "volt2 = [0 for i in range(rows)]\n",
    "volt3 = [0 for i in range(rows)]\n",
    "volt4 = [0 for i in range(rows)]\n",
    "volt5 = [0 for i in range(rows)]\n",
    "volt6 = [0 for i in range(rows)]\n",
    "\n",
    "#fill arrays with proper data\n",
    "for i in range(1, rows):\n",
    "    volt1[i] = data[i][15]\n",
    "    volt2[i] = data[i][16]\n",
    "    volt3[i] = data[i][17]\n",
    "    volt4[i] = data[i][18]\n",
    "    volt5[i] = data[i][19]\n",
    "    volt6[i] = data[i][20]"
   ]
  },
  {
   "cell_type": "code",
   "execution_count": null,
   "id": "34e3acea",
   "metadata": {},
   "outputs": [],
   "source": [
    "#Plotting\n",
    "#yikes this graph looks awful\n",
    "\n",
    "plt.figure(figsize=(7,5))  # <- increase figure margin\n",
    "\n",
    "plt.plot(timeStep[:], OCV2[:], c='r', label='SOC') #SOC and OCV are the same thing\n",
    "#plt.plot(timeStep[:], volt1[:], lw=2, c='k', label='voltage')\n",
    "plt.legend(loc='best')\n",
    "plt.xlabel('time (sec)')\n",
    "plt.ylabel('SOC')\n",
    "\n",
    "plt.tight_layout()\n",
    "\n",
    "plt.show()"
   ]
  }
 ],
 "metadata": {
  "kernelspec": {
   "display_name": "Python 3 (clean)",
   "language": "python",
   "name": "python3_clean"
  },
  "language_info": {
   "codemirror_mode": {
    "name": "ipython",
    "version": 3
   },
   "file_extension": ".py",
   "mimetype": "text/x-python",
   "name": "python",
   "nbconvert_exporter": "python",
   "pygments_lexer": "ipython3",
   "version": "3.9.5"
  }
 },
 "nbformat": 4,
 "nbformat_minor": 5
}
